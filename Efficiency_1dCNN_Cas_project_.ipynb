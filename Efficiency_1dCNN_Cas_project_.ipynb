{
  "nbformat": 4,
  "nbformat_minor": 0,
  "metadata": {
    "colab": {
      "name": "Efficiency 1dCNN Cas  project .ipynb",
      "provenance": [],
      "collapsed_sections": [],
      "include_colab_link": true
    },
    "kernelspec": {
      "name": "python3",
      "display_name": "Python 3"
    },
    "accelerator": "GPU"
  },
  "cells": [
    {
      "cell_type": "markdown",
      "metadata": {
        "id": "view-in-github",
        "colab_type": "text"
      },
      "source": [
        "<a href=\"https://colab.research.google.com/github/Williamyan123/Cas-Score-Prediction/blob/master/Efficiency_1dCNN_Cas_project_.ipynb\" target=\"_parent\"><img src=\"https://colab.research.google.com/assets/colab-badge.svg\" alt=\"Open In Colab\"/></a>"
      ]
    },
    {
      "cell_type": "code",
      "metadata": {
        "id": "atLys6s6nkQO"
      },
      "source": [
        "import numpy as np\n",
        "import pandas as pd\n",
        "import seaborn as sns\n",
        "import matplotlib.pyplot as plt\n",
        "from matplotlib.pyplot import rcParams\n",
        "\n",
        "import theano\n",
        "import os\n",
        "from sklearn.preprocessing import StandardScaler\n",
        "from sklearn.model_selection import train_test_split\n",
        "from keras.wrappers.scikit_learn import KerasClassifier\n",
        "from keras.models import Sequential\n",
        "from keras.layers import Dense, Activation, Dropout\n",
        "from numpy.random import seed\n",
        "\n",
        "%matplotlib inline"
      ],
      "execution_count": 2,
      "outputs": []
    },
    {
      "cell_type": "code",
      "metadata": {
        "id": "aqOyAwt0MAJ8",
        "outputId": "32c4318e-369d-44c9-8f54-d7514620fb45",
        "colab": {
          "base_uri": "https://localhost:8080/",
          "height": 204
        }
      },
      "source": [
        "# import dataset as a dataframe\n",
        "df = pd.read_csv(\"Final Processed Cas13 data.csv\")\n",
        "df.head()\n",
        "\n",
        "\n"
      ],
      "execution_count": 4,
      "outputs": [
        {
          "output_type": "execute_result",
          "data": {
            "text/html": [
              "<div>\n",
              "<style scoped>\n",
              "    .dataframe tbody tr th:only-of-type {\n",
              "        vertical-align: middle;\n",
              "    }\n",
              "\n",
              "    .dataframe tbody tr th {\n",
              "        vertical-align: top;\n",
              "    }\n",
              "\n",
              "    .dataframe thead th {\n",
              "        text-align: right;\n",
              "    }\n",
              "</style>\n",
              "<table border=\"1\" class=\"dataframe\">\n",
              "  <thead>\n",
              "    <tr style=\"text-align: right;\">\n",
              "      <th></th>\n",
              "      <th>GuideName</th>\n",
              "      <th>GuideSeq</th>\n",
              "      <th>TargetSite</th>\n",
              "      <th>GuideScores</th>\n",
              "      <th>MismatchNumber</th>\n",
              "    </tr>\n",
              "  </thead>\n",
              "  <tbody>\n",
              "    <tr>\n",
              "      <th>0</th>\n",
              "      <td>crRNA0001</td>\n",
              "      <td>GGACAGGTGGGCGTGGCCCGAGC</td>\n",
              "      <td>CCTGTCCACCCGCACCGGGCTCG</td>\n",
              "      <td>0.041854</td>\n",
              "      <td>0</td>\n",
              "    </tr>\n",
              "    <tr>\n",
              "      <th>1</th>\n",
              "      <td>crRNA0001</td>\n",
              "      <td>TGACAGGTGGGCGTGGCCCGAGC</td>\n",
              "      <td>CCTGTCCACCCGCACCGGGCTCG</td>\n",
              "      <td>-0.045263</td>\n",
              "      <td>1</td>\n",
              "    </tr>\n",
              "    <tr>\n",
              "      <th>2</th>\n",
              "      <td>crRNA0001</td>\n",
              "      <td>GTACAGGTGGGCGTGGCCCGAGC</td>\n",
              "      <td>CCTGTCCACCCGCACCGGGCTCG</td>\n",
              "      <td>0.098379</td>\n",
              "      <td>1</td>\n",
              "    </tr>\n",
              "    <tr>\n",
              "      <th>3</th>\n",
              "      <td>crRNA0001</td>\n",
              "      <td>GGCCAGGTGGGCGTGGCCCGAGC</td>\n",
              "      <td>CCTGTCCACCCGCACCGGGCTCG</td>\n",
              "      <td>-0.108138</td>\n",
              "      <td>1</td>\n",
              "    </tr>\n",
              "    <tr>\n",
              "      <th>4</th>\n",
              "      <td>crRNA0001</td>\n",
              "      <td>GGAGAGGTGGGCGTGGCCCGAGC</td>\n",
              "      <td>CCTGTCCACCCGCACCGGGCTCG</td>\n",
              "      <td>-0.488689</td>\n",
              "      <td>1</td>\n",
              "    </tr>\n",
              "  </tbody>\n",
              "</table>\n",
              "</div>"
            ],
            "text/plain": [
              "   GuideName                 GuideSeq  ... GuideScores  MismatchNumber\n",
              "0  crRNA0001  GGACAGGTGGGCGTGGCCCGAGC  ...    0.041854               0\n",
              "1  crRNA0001  TGACAGGTGGGCGTGGCCCGAGC  ...   -0.045263               1\n",
              "2  crRNA0001  GTACAGGTGGGCGTGGCCCGAGC  ...    0.098379               1\n",
              "3  crRNA0001  GGCCAGGTGGGCGTGGCCCGAGC  ...   -0.108138               1\n",
              "4  crRNA0001  GGAGAGGTGGGCGTGGCCCGAGC  ...   -0.488689               1\n",
              "\n",
              "[5 rows x 5 columns]"
            ]
          },
          "metadata": {
            "tags": []
          },
          "execution_count": 4
        }
      ]
    },
    {
      "cell_type": "code",
      "metadata": {
        "id": "mexh5LuN0elt",
        "outputId": "f2649965-ef8e-4041-c46d-0f3c6a13e820",
        "colab": {
          "base_uri": "https://localhost:8080/",
          "height": 35
        }
      },
      "source": [
        "# one-hot encode the quartile data\n",
        "'''df = pd.concat([df, pd.get_dummies(df['Q'], prefix = 'Q')], axis = 1)\n",
        "del df['Q']\n",
        "\n",
        "df.head()'''"
      ],
      "execution_count": null,
      "outputs": [
        {
          "output_type": "execute_result",
          "data": {
            "application/vnd.google.colaboratory.intrinsic+json": {
              "type": "string"
            },
            "text/plain": [
              "\"df = pd.concat([df, pd.get_dummies(df['Q'], prefix = 'Q')], axis = 1)\\ndel df['Q']\\n\\ndf.head()\""
            ]
          },
          "metadata": {
            "tags": []
          },
          "execution_count": 4
        }
      ]
    },
    {
      "cell_type": "code",
      "metadata": {
        "id": "ITomeD-LqWd-"
      },
      "source": [
        "# extract gRNA sequences from dataframe into a numpy array\n",
        "guide = df['GuideSeq']\n",
        "guide = guide[pd.notnull].to_numpy()\n",
        "print(guide)\n",
        "\n",
        "# extract target site sequences from dataframe into a numpy array\n",
        "target = df['TargetSite']\n",
        "target = target[pd.notnull].to_numpy()\n",
        "print(target)\n",
        "\n",
        "#extract the guide score into a numpy array\n",
        "y=df.GuideScores\n",
        "y = y[pd.notnull].to_numpy()\n",
        "print(y)\n",
        "print(len(y))"
      ],
      "execution_count": null,
      "outputs": []
    },
    {
      "cell_type": "code",
      "metadata": {
        "id": "mDOJM6bquAae"
      },
      "source": [
        "plt.plot(guide[1:100],y[1:100])"
      ],
      "execution_count": null,
      "outputs": []
    },
    {
      "cell_type": "code",
      "metadata": {
        "id": "M5MlFhjAmnYP",
        "outputId": "0c452c64-7120-4f10-872c-370bec6927f0",
        "colab": {
          "base_uri": "https://localhost:8080/",
          "height": 282
        }
      },
      "source": [
        "import math\n",
        "\n",
        "gscores = []\n",
        "gscores = df.GuideScores.to_numpy()\n",
        "gscores = np.sort(gscores)\n",
        "x = list(range(len(guide)))\n",
        "#plt.plot(gscores, x)\n",
        "#plt.show()\n",
        "\n",
        "\n",
        "df['GuideScores'].hist(bins = 200, range = [-2, 4])"
      ],
      "execution_count": 7,
      "outputs": [
        {
          "output_type": "execute_result",
          "data": {
            "text/plain": [
              "<matplotlib.axes._subplots.AxesSubplot at 0x7f7760aa40f0>"
            ]
          },
          "metadata": {
            "tags": []
          },
          "execution_count": 7
        },
        {
          "output_type": "display_data",
          "data": {
            "image/png": "[encoded data removed]",
            "text/plain": [
              "<Figure size 432x288 with 1 Axes>"
            ]
          },
          "metadata": {
            "tags": [],
            "needs_background": "light"
          }
        }
      ]
    },
    {
      "cell_type": "code",
      "metadata": {
        "id": "BX60EKhDUIXi"
      },
      "source": [
        "# splits a string into an array of characters\n",
        "def split(word): \n",
        "    return [char for char in word]  \n",
        "\n",
        "# transforms a 23 base pair sequence into a one hot encode in the order A, T, G, C\n",
        "def transform(seq):\n",
        "  for i in range(len(seq)):\n",
        "    \n",
        "    base = seq[i]\n",
        "    seq.remove(base)\n",
        "\n",
        "    if base == \"A\":\n",
        "      arg = [1,0,0,0]\n",
        "\n",
        "    elif base == \"T\":\n",
        "      arg = [0,1,0,0]\n",
        "\n",
        "    elif base == \"G\":\n",
        "      arg = [0,0,1,0]\n",
        "\n",
        "    elif base == \"C\":\n",
        "      arg = [0,0,0,1]\n",
        "\n",
        "    else:\n",
        "      arg = base\n",
        "\n",
        "    seq.insert(i, arg)\n",
        "\n",
        "  return seq"
      ],
      "execution_count": 8,
      "outputs": []
    },
    {
      "cell_type": "code",
      "metadata": {
        "id": "BYTZpft0geQo"
      },
      "source": [
        "# split target into individual bases\n",
        "mguide = []\n",
        "mtarget = []\n",
        "for i in range(len(guide)):\n",
        "  mguide.append(split(guide[i]))\n",
        "  mtarget.append(split(target[i]))\n",
        "\n",
        "print(mguide)\n",
        "print(mtarget)\n",
        "print(mtarget[0])"
      ],
      "execution_count": null,
      "outputs": []
    },
    {
      "cell_type": "code",
      "metadata": {
        "id": "hpaNzDTgXgGi"
      },
      "source": [
        "# concatenate the mguide and mtarget arrays into the final encoded format (46*4)\n",
        "x_encoded=[]\n",
        "for i in range(len(guide)):\n",
        "  fguide=[]\n",
        "  # one-hot encoding of mguide\n",
        "  fguide = transform(mguide[i])\n",
        "  ftarget=[]\n",
        "  #one-hot encoding of mtarget\n",
        "  ftarget = transform(mtarget[i])\n",
        "  #fguide = np.array(np.expand_dims(fguide, axis = 1))\n",
        "  #ftarget = np.array(np.expand_dims(ftarget, axis = 1))\n",
        "  #final_match = ftarget+fguide\n",
        "  final_match = np.concatenate((fguide, ftarget), axis=1)\n",
        "  final_match = final_match.reshape(1,184)\n",
        "  x_encoded.append(final_match)\n",
        "# test with one encoded format\n",
        "print(x_encoded[0])\n",
        "print(guide[0])\n",
        "print(x_encoded[0].shape)\n",
        "# x_final=np.array(x_encoded)\n",
        "# print(x_final[0]))"
      ],
      "execution_count": null,
      "outputs": []
    },
    {
      "cell_type": "code",
      "metadata": {
        "id": "Tq0oCnj2g1A2",
        "outputId": "6f8e9c6f-cdd5-429d-efc8-5b0b919bc60e",
        "colab": {
          "base_uri": "https://localhost:8080/",
          "height": 71
        }
      },
      "source": [
        "# graph of the encoded format\n",
        "plt.imshow(x_encoded[0], cmap = 'Paired', interpolation = 'nearest')"
      ],
      "execution_count": 11,
      "outputs": [
        {
          "output_type": "execute_result",
          "data": {
            "text/plain": [
              "<matplotlib.image.AxesImage at 0x7f7760864668>"
            ]
          },
          "metadata": {
            "tags": []
          },
          "execution_count": 11
        },
        {
          "output_type": "display_data",
          "data": {
            "image/png": "[encoded data removed]",
            "text/plain": [
              "<Figure size 432x288 with 1 Axes>"
            ]
          },
          "metadata": {
            "tags": [],
            "needs_background": "light"
          }
        }
      ]
    },
    {
      "cell_type": "code",
      "metadata": {
        "id": "w-TMAwZnLocw",
        "outputId": "a62afcc1-31df-4677-a15f-fb173b44d96f",
        "colab": {
          "base_uri": "https://localhost:8080/"
        }
      },
      "source": [
        "#adding a dimension to make it compatible with CNN model\n",
        "x_encoded = np.expand_dims(x_encoded, axis=3)\n",
        "x_encoded.shape"
      ],
      "execution_count": 12,
      "outputs": [
        {
          "output_type": "execute_result",
          "data": {
            "text/plain": [
              "(12616, 1, 184, 1)"
            ]
          },
          "metadata": {
            "tags": []
          },
          "execution_count": 12
        }
      ]
    },
    {
      "cell_type": "code",
      "metadata": {
        "id": "Bu6NU43yOu1n"
      },
      "source": [
        "#split intotraining and testing data\n",
        "from sklearn.model_selection import train_test_split\n",
        "x_train, x_test, y_train, y_test = train_test_split(x_encoded, y, test_size=0.25, random_state = 42)\n",
        "\n",
        "print(x_train[0])\n",
        "print(x_train[0].shape)\n",
        "print(y_train[1])"
      ],
      "execution_count": null,
      "outputs": []
    },
    {
      "cell_type": "code",
      "metadata": {
        "id": "clCz6lxydS8b"
      },
      "source": [
        "import tensorflow as tf\n",
        "import keras\n",
        "from tensorflow.keras.models import Sequential\n",
        "from tensorflow.keras.layers import Conv2D, Conv1D, MaxPooling2D, Activation, Dropout, Flatten, Dense\n",
        "from tensorflow.keras.layers import PReLU\n",
        "from tensorflow.keras.layers import LeakyReLU\n",
        "from keras.initializers import Constant\n",
        "import sklearn.metrics as metrics\n",
        "\n",
        "opt = tf.keras.optimizers.RMSprop(0.001)\n",
        "dr=0.46\n",
        "# alp = 0.1\n",
        "fil= 16\n",
        "image_shape = (1,184, 1)\n",
        "\n",
        "\n",
        "model = Sequential()\n",
        "model.add(Conv1D(filters=fil, kernel_size=8, strides = 8, input_shape=image_shape, activation=\"relu\"))\n",
        "model.add(Dropout(0.0))\n",
        "#model.add(MaxPooling2D(pool_size=(2,1)))\n",
        "model.add(Conv1D(filters=fil, kernel_size=5, input_shape=image_shape, activation=\"relu\"))\n",
        "model.add(Dropout(0.0))\n",
        "\n",
        "model.add(Flatten())\n",
        "\n",
        "\n",
        "\n",
        "model.add(Dense(30))\n",
        "model.add(Activation('relu'))\n",
        "model.add(Dropout(dr))\n",
        "model.add(Dense(80))\n",
        "model.add(Activation('relu'))\n",
        "model.add(Dropout(dr))\n",
        "\n",
        "\n",
        "model.add(Dense(1))\n",
        "model.compile(loss='mse', optimizer=opt, metrics=['mse'])"
      ],
      "execution_count": 21,
      "outputs": []
    },
    {
      "cell_type": "code",
      "metadata": {
        "id": "-NVCu1gDyice",
        "outputId": "a46b99ba-3a29-4570-ec08-1f5c51f67677",
        "colab": {
          "base_uri": "https://localhost:8080/",
          "height": 537
        }
      },
      "source": [
        "model.summary()"
      ],
      "execution_count": null,
      "outputs": [
        {
          "output_type": "stream",
          "text": [
            "Model: \"sequential\"\n",
            "_________________________________________________________________\n",
            "Layer (type)                 Output Shape              Param #   \n",
            "=================================================================\n",
            "conv1d (Conv1D)              (None, 1, 23, 16)         144       \n",
            "_________________________________________________________________\n",
            "dropout (Dropout)            (None, 1, 23, 16)         0         \n",
            "_________________________________________________________________\n",
            "conv1d_1 (Conv1D)            (None, 1, 19, 16)         1296      \n",
            "_________________________________________________________________\n",
            "dropout_1 (Dropout)          (None, 1, 19, 16)         0         \n",
            "_________________________________________________________________\n",
            "flatten (Flatten)            (None, 304)               0         \n",
            "_________________________________________________________________\n",
            "dense (Dense)                (None, 100)               30500     \n",
            "_________________________________________________________________\n",
            "activation (Activation)      (None, 100)               0         \n",
            "_________________________________________________________________\n",
            "dropout_2 (Dropout)          (None, 100)               0         \n",
            "_________________________________________________________________\n",
            "dense_1 (Dense)              (None, 300)               30300     \n",
            "_________________________________________________________________\n",
            "activation_1 (Activation)    (None, 300)               0         \n",
            "_________________________________________________________________\n",
            "dropout_3 (Dropout)          (None, 300)               0         \n",
            "_________________________________________________________________\n",
            "dense_2 (Dense)              (None, 1)                 301       \n",
            "=================================================================\n",
            "Total params: 62,541\n",
            "Trainable params: 62,541\n",
            "Non-trainable params: 0\n",
            "_________________________________________________________________\n"
          ],
          "name": "stdout"
        }
      ]
    },
    {
      "cell_type": "code",
      "metadata": {
        "id": "tRO62AWhbTji"
      },
      "source": [
        "from tensorflow.keras.callbacks import EarlyStopping\n",
        "early_stop = EarlyStopping(monitor='val_loss', patience = 5)"
      ],
      "execution_count": 16,
      "outputs": []
    },
    {
      "cell_type": "code",
      "metadata": {
        "id": "rNCddaZd5JG5",
        "outputId": "9d4ef160-58f4-49bc-c57d-9b1a304cc363",
        "colab": {
          "base_uri": "https://localhost:8080/"
        }
      },
      "source": [
        "history = model.fit(x_train, \n",
        "                   y_train, \n",
        "                   epochs=200, \n",
        "                   batch_size = 256,\n",
        "                  callbacks=[early_stop],\n",
        "                   validation_split=0.1)\n",
        "\n",
        "\n"
      ],
      "execution_count": 22,
      "outputs": [
        {
          "output_type": "stream",
          "text": [
            "Epoch 1/200\n",
            "34/34 [==============================] - 0s 8ms/step - loss: 0.2528 - mse: 0.2528 - val_loss: 0.2389 - val_mse: 0.2389\n",
            "Epoch 2/200\n",
            "34/34 [==============================] - 0s 4ms/step - loss: 0.2413 - mse: 0.2413 - val_loss: 0.2317 - val_mse: 0.2317\n",
            "Epoch 3/200\n",
            "34/34 [==============================] - 0s 4ms/step - loss: 0.2300 - mse: 0.2300 - val_loss: 0.2013 - val_mse: 0.2013\n",
            "Epoch 4/200\n",
            "34/34 [==============================] - 0s 4ms/step - loss: 0.2214 - mse: 0.2214 - val_loss: 0.2002 - val_mse: 0.2002\n",
            "Epoch 5/200\n",
            "34/34 [==============================] - 0s 4ms/step - loss: 0.2127 - mse: 0.2127 - val_loss: 0.1914 - val_mse: 0.1914\n",
            "Epoch 6/200\n",
            "34/34 [==============================] - 0s 4ms/step - loss: 0.2072 - mse: 0.2072 - val_loss: 0.2034 - val_mse: 0.2034\n",
            "Epoch 7/200\n",
            "34/34 [==============================] - 0s 4ms/step - loss: 0.2008 - mse: 0.2008 - val_loss: 0.1859 - val_mse: 0.1859\n",
            "Epoch 8/200\n",
            "34/34 [==============================] - 0s 5ms/step - loss: 0.1976 - mse: 0.1976 - val_loss: 0.1883 - val_mse: 0.1883\n",
            "Epoch 9/200\n",
            "34/34 [==============================] - 0s 5ms/step - loss: 0.1951 - mse: 0.1951 - val_loss: 0.1805 - val_mse: 0.1805\n",
            "Epoch 10/200\n",
            "34/34 [==============================] - 0s 4ms/step - loss: 0.1889 - mse: 0.1889 - val_loss: 0.1761 - val_mse: 0.1761\n",
            "Epoch 11/200\n",
            "34/34 [==============================] - 0s 4ms/step - loss: 0.1919 - mse: 0.1919 - val_loss: 0.1759 - val_mse: 0.1759\n",
            "Epoch 12/200\n",
            "34/34 [==============================] - 0s 4ms/step - loss: 0.1835 - mse: 0.1835 - val_loss: 0.1834 - val_mse: 0.1834\n",
            "Epoch 13/200\n",
            "34/34 [==============================] - 0s 4ms/step - loss: 0.1827 - mse: 0.1827 - val_loss: 0.1916 - val_mse: 0.1916\n",
            "Epoch 14/200\n",
            "34/34 [==============================] - 0s 5ms/step - loss: 0.1798 - mse: 0.1798 - val_loss: 0.1779 - val_mse: 0.1779\n",
            "Epoch 15/200\n",
            "34/34 [==============================] - 0s 5ms/step - loss: 0.1805 - mse: 0.1805 - val_loss: 0.1771 - val_mse: 0.1771\n",
            "Epoch 16/200\n",
            "34/34 [==============================] - 0s 5ms/step - loss: 0.1735 - mse: 0.1735 - val_loss: 0.1699 - val_mse: 0.1699\n",
            "Epoch 17/200\n",
            "34/34 [==============================] - 0s 4ms/step - loss: 0.1737 - mse: 0.1737 - val_loss: 0.1815 - val_mse: 0.1815\n",
            "Epoch 18/200\n",
            "34/34 [==============================] - 0s 4ms/step - loss: 0.1717 - mse: 0.1717 - val_loss: 0.1705 - val_mse: 0.1705\n",
            "Epoch 19/200\n",
            "34/34 [==============================] - 0s 4ms/step - loss: 0.1694 - mse: 0.1694 - val_loss: 0.1696 - val_mse: 0.1696\n",
            "Epoch 20/200\n",
            "34/34 [==============================] - 0s 4ms/step - loss: 0.1649 - mse: 0.1649 - val_loss: 0.1685 - val_mse: 0.1685\n",
            "Epoch 21/200\n",
            "34/34 [==============================] - 0s 5ms/step - loss: 0.1620 - mse: 0.1620 - val_loss: 0.1786 - val_mse: 0.1786\n",
            "Epoch 22/200\n",
            "34/34 [==============================] - 0s 5ms/step - loss: 0.1650 - mse: 0.1650 - val_loss: 0.1660 - val_mse: 0.1660\n",
            "Epoch 23/200\n",
            "34/34 [==============================] - 0s 5ms/step - loss: 0.1589 - mse: 0.1589 - val_loss: 0.1910 - val_mse: 0.1910\n",
            "Epoch 24/200\n",
            "34/34 [==============================] - 0s 5ms/step - loss: 0.1563 - mse: 0.1563 - val_loss: 0.1686 - val_mse: 0.1686\n",
            "Epoch 25/200\n",
            "34/34 [==============================] - 0s 5ms/step - loss: 0.1572 - mse: 0.1572 - val_loss: 0.1678 - val_mse: 0.1678\n",
            "Epoch 26/200\n",
            "34/34 [==============================] - 0s 4ms/step - loss: 0.1561 - mse: 0.1561 - val_loss: 0.1797 - val_mse: 0.1797\n",
            "Epoch 27/200\n",
            "34/34 [==============================] - 0s 4ms/step - loss: 0.1513 - mse: 0.1513 - val_loss: 0.1697 - val_mse: 0.1697\n"
          ],
          "name": "stdout"
        }
      ]
    },
    {
      "cell_type": "code",
      "metadata": {
        "id": "LL6ziZblfblM",
        "outputId": "38fa8247-cf20-47fa-ace4-eb7e6d97cab8",
        "colab": {
          "base_uri": "https://localhost:8080/",
          "height": 204
        }
      },
      "source": [
        "hist=pd.DataFrame(history.history)\n",
        "hist['Epoch'] = history.epoch\n",
        "hist.head()\n"
      ],
      "execution_count": 23,
      "outputs": [
        {
          "output_type": "execute_result",
          "data": {
            "text/html": [
              "<div>\n",
              "<style scoped>\n",
              "    .dataframe tbody tr th:only-of-type {\n",
              "        vertical-align: middle;\n",
              "    }\n",
              "\n",
              "    .dataframe tbody tr th {\n",
              "        vertical-align: top;\n",
              "    }\n",
              "\n",
              "    .dataframe thead th {\n",
              "        text-align: right;\n",
              "    }\n",
              "</style>\n",
              "<table border=\"1\" class=\"dataframe\">\n",
              "  <thead>\n",
              "    <tr style=\"text-align: right;\">\n",
              "      <th></th>\n",
              "      <th>loss</th>\n",
              "      <th>mse</th>\n",
              "      <th>val_loss</th>\n",
              "      <th>val_mse</th>\n",
              "      <th>Epoch</th>\n",
              "    </tr>\n",
              "  </thead>\n",
              "  <tbody>\n",
              "    <tr>\n",
              "      <th>0</th>\n",
              "      <td>0.252847</td>\n",
              "      <td>0.252847</td>\n",
              "      <td>0.238858</td>\n",
              "      <td>0.238858</td>\n",
              "      <td>0</td>\n",
              "    </tr>\n",
              "    <tr>\n",
              "      <th>1</th>\n",
              "      <td>0.241327</td>\n",
              "      <td>0.241327</td>\n",
              "      <td>0.231735</td>\n",
              "      <td>0.231735</td>\n",
              "      <td>1</td>\n",
              "    </tr>\n",
              "    <tr>\n",
              "      <th>2</th>\n",
              "      <td>0.229995</td>\n",
              "      <td>0.229995</td>\n",
              "      <td>0.201337</td>\n",
              "      <td>0.201337</td>\n",
              "      <td>2</td>\n",
              "    </tr>\n",
              "    <tr>\n",
              "      <th>3</th>\n",
              "      <td>0.221424</td>\n",
              "      <td>0.221424</td>\n",
              "      <td>0.200176</td>\n",
              "      <td>0.200176</td>\n",
              "      <td>3</td>\n",
              "    </tr>\n",
              "    <tr>\n",
              "      <th>4</th>\n",
              "      <td>0.212725</td>\n",
              "      <td>0.212725</td>\n",
              "      <td>0.191373</td>\n",
              "      <td>0.191373</td>\n",
              "      <td>4</td>\n",
              "    </tr>\n",
              "  </tbody>\n",
              "</table>\n",
              "</div>"
            ],
            "text/plain": [
              "       loss       mse  val_loss   val_mse  Epoch\n",
              "0  0.252847  0.252847  0.238858  0.238858      0\n",
              "1  0.241327  0.241327  0.231735  0.231735      1\n",
              "2  0.229995  0.229995  0.201337  0.201337      2\n",
              "3  0.221424  0.221424  0.200176  0.200176      3\n",
              "4  0.212725  0.212725  0.191373  0.191373      4"
            ]
          },
          "metadata": {
            "tags": []
          },
          "execution_count": 23
        }
      ]
    },
    {
      "cell_type": "code",
      "metadata": {
        "id": "7fwcEtFDzKT1",
        "outputId": "dec8e3fd-1946-48a7-8e2f-9d3d28543074",
        "colab": {
          "base_uri": "https://localhost:8080/",
          "height": 282
        }
      },
      "source": [
        "losses = pd.DataFrame(model.history.history)\n",
        "losses[['loss','val_loss']].plot()"
      ],
      "execution_count": 24,
      "outputs": [
        {
          "output_type": "execute_result",
          "data": {
            "text/plain": [
              "<matplotlib.axes._subplots.AxesSubplot at 0x7f76f67f4da0>"
            ]
          },
          "metadata": {
            "tags": []
          },
          "execution_count": 24
        },
        {
          "output_type": "display_data",
          "data": {
            "image/png": "[encoded data removed]",
            "text/plain": [
              "<Figure size 432x288 with 1 Axes>"
            ]
          },
          "metadata": {
            "tags": [],
            "needs_background": "light"
          }
        }
      ]
    },
    {
      "cell_type": "code",
      "metadata": {
        "id": "1JybrDOKiUIW",
        "outputId": "faf38361-9f42-4489-c3ff-1420a99635f5",
        "colab": {
          "base_uri": "https://localhost:8080/"
        }
      },
      "source": [
        "from sklearn.metrics import r2_score\n",
        "training_pred =model.predict(x_train)\n",
        "training_label=y_train\n",
        "\n",
        "R_squared_training=r2_score(training_label, training_pred)\n",
        "print(R_squared_training)"
      ],
      "execution_count": 25,
      "outputs": [
        {
          "output_type": "stream",
          "text": [
            "0.4515626695475988\n"
          ],
          "name": "stdout"
        }
      ]
    },
    {
      "cell_type": "code",
      "metadata": {
        "id": "4zVWdkf64eDm"
      },
      "source": [
        "from sklearn.model_selection import KFold\n",
        "from tensorflow.keras.callbacks import EarlyStopping\n",
        "kf = KFold(n_splits = 8)\n",
        "kf.get_n_splits(x_encoded)\n",
        "\n",
        "scores = []\n",
        "\n",
        "early_stop = EarlyStopping(monitor='val_loss', patience = 5)\n",
        "\n",
        "from sklearn.model_selection import cross_val_score\n",
        "from sklearn.metrics import mean_squared_error\n",
        "for train_index, test_index in kf.split(x_encoded):\n",
        "  #print(\"TRAIN:\", train_index, \"TEST:\", test_index)\n",
        "  x_train, x_test = x_encoded[train_index], x_encoded[test_index]\n",
        "  y_train, y_test = y[train_index], y[test_index]\n",
        "\n",
        "  result = model.fit(x_train, \n",
        "                   y_train, \n",
        "                   epochs=100, \n",
        "                   batch_size = 128,\n",
        "                   validation_split=0.2,\n",
        "                   callbacks = [early_stop])\n",
        "  \n",
        "  print(result.history)\n",
        "  losses = pd.DataFrame(model.history.history)\n",
        "  losses[['loss','val_loss']].plot()\n",
        "\n",
        "\n",
        "print(scores)\n",
        "print(np.mean(scores))\n",
        "print(np.std(scores, axis=0))"
      ],
      "execution_count": null,
      "outputs": []
    }
  ]
}