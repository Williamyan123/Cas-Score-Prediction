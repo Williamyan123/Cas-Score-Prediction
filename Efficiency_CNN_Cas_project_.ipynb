{
  "nbformat": 4,
  "nbformat_minor": 0,
  "metadata": {
    "colab": {
      "name": "Efficiency CNN Cas  project .ipynb",
      "provenance": [],
      "collapsed_sections": [],
      "authorship_tag": "ABX9TyOjcRs7xku7G/YXFgLhi2sr",
      "include_colab_link": true
    },
    "kernelspec": {
      "name": "python3",
      "display_name": "Python 3"
    },
    "accelerator": "GPU"
  },
  "cells": [
    {
      "cell_type": "markdown",
      "metadata": {
        "id": "view-in-github",
        "colab_type": "text"
      },
      "source": [
        "<a href=\"https://colab.research.google.com/github/Williamyan123/Cas-Score-Prediction/blob/master/Efficiency_CNN_Cas_project_.ipynb\" target=\"_parent\"><img src=\"https://colab.research.google.com/assets/colab-badge.svg\" alt=\"Open In Colab\"/></a>"
      ]
    },
    {
      "cell_type": "code",
      "metadata": {
        "id": "atLys6s6nkQO",
        "colab_type": "code",
        "colab": {
          "base_uri": "https://localhost:8080/",
          "height": 52
        },
        "outputId": "5e7d0967-d81e-43ae-d52a-05cc1c741f75"
      },
      "source": [
        " \n",
        "import numpy as np\n",
        "import pandas as pd\n",
        "import seaborn as sns\n",
        "import matplotlib.pyplot as plt\n",
        "from matplotlib.pyplot import rcParams\n",
        "import theano\n",
        "%matplotlib inline\n",
        "\n",
        "import os\n",
        "from sklearn.preprocessing import StandardScaler\n",
        "from sklearn.model_selection import train_test_split\n",
        "from keras.wrappers.scikit_learn import KerasClassifier\n",
        "from keras.models import Sequential\n",
        "from keras.layers import Dense, Activation, Dropout\n",
        "from numpy.random import seed"
      ],
      "execution_count": null,
      "outputs": [
        {
          "output_type": "stream",
          "text": [
            "/usr/local/lib/python3.6/dist-packages/statsmodels/tools/_testing.py:19: FutureWarning: pandas.util.testing is deprecated. Use the functions in the public API at pandas.testing instead.\n",
            "  import pandas.util.testing as tm\n"
          ],
          "name": "stderr"
        }
      ]
    },
    {
      "cell_type": "code",
      "metadata": {
        "id": "aqOyAwt0MAJ8",
        "colab_type": "code",
        "colab": {
          "base_uri": "https://localhost:8080/",
          "height": 204
        },
        "outputId": "76ad1cd6-4cb2-47c3-fb18-ebf99366b806"
      },
      "source": [
        "dataframe = pd.read_csv(\"new (4).csv\")\n",
        "dataframe.head()\n"
      ],
      "execution_count": null,
      "outputs": [
        {
          "output_type": "execute_result",
          "data": {
            "text/html": [
              "<div>\n",
              "<style scoped>\n",
              "    .dataframe tbody tr th:only-of-type {\n",
              "        vertical-align: middle;\n",
              "    }\n",
              "\n",
              "    .dataframe tbody tr th {\n",
              "        vertical-align: top;\n",
              "    }\n",
              "\n",
              "    .dataframe thead th {\n",
              "        text-align: right;\n",
              "    }\n",
              "</style>\n",
              "<table border=\"1\" class=\"dataframe\">\n",
              "  <thead>\n",
              "    <tr style=\"text-align: right;\">\n",
              "      <th></th>\n",
              "      <th>Unnamed: 0</th>\n",
              "      <th>gRNA</th>\n",
              "      <th>TargetSite</th>\n",
              "      <th>MatchType</th>\n",
              "      <th>GuideScore</th>\n",
              "    </tr>\n",
              "  </thead>\n",
              "  <tbody>\n",
              "    <tr>\n",
              "      <th>0</th>\n",
              "      <td>0</td>\n",
              "      <td>GGACAGGTGGGCGTGGCCCGAGC</td>\n",
              "      <td>CCTGTCCACCCGCACCGGGCTCG</td>\n",
              "      <td>Perfect Match</td>\n",
              "      <td>0.041854</td>\n",
              "    </tr>\n",
              "    <tr>\n",
              "      <th>1</th>\n",
              "      <td>1</td>\n",
              "      <td>AGGACAGGTGGGCGTGGCCCGAG</td>\n",
              "      <td>TCCTGTCCACCCGCACCGGGCTC</td>\n",
              "      <td>Perfect Match</td>\n",
              "      <td>-0.310824</td>\n",
              "    </tr>\n",
              "    <tr>\n",
              "      <th>2</th>\n",
              "      <td>2</td>\n",
              "      <td>CAGGACAGGTGGGCGTGGCCCGA</td>\n",
              "      <td>GTCCTGTCCACCCGCACCGGGCT</td>\n",
              "      <td>Perfect Match</td>\n",
              "      <td>-0.119489</td>\n",
              "    </tr>\n",
              "    <tr>\n",
              "      <th>3</th>\n",
              "      <td>3</td>\n",
              "      <td>TGCAGGACAGGTGGGCGTGGCCC</td>\n",
              "      <td>ACGTCCTGTCCACCCGCACCGGG</td>\n",
              "      <td>Perfect Match</td>\n",
              "      <td>-0.404897</td>\n",
              "    </tr>\n",
              "    <tr>\n",
              "      <th>4</th>\n",
              "      <td>4</td>\n",
              "      <td>CTGCAGGACAGGTGGGCGTGGCC</td>\n",
              "      <td>GACGTCCTGTCCACCCGCACCGG</td>\n",
              "      <td>Perfect Match</td>\n",
              "      <td>-0.042202</td>\n",
              "    </tr>\n",
              "  </tbody>\n",
              "</table>\n",
              "</div>"
            ],
            "text/plain": [
              "   Unnamed: 0                     gRNA  ...      MatchType GuideScore\n",
              "0           0  GGACAGGTGGGCGTGGCCCGAGC  ...  Perfect Match   0.041854\n",
              "1           1  AGGACAGGTGGGCGTGGCCCGAG  ...  Perfect Match  -0.310824\n",
              "2           2  CAGGACAGGTGGGCGTGGCCCGA  ...  Perfect Match  -0.119489\n",
              "3           3  TGCAGGACAGGTGGGCGTGGCCC  ...  Perfect Match  -0.404897\n",
              "4           4  CTGCAGGACAGGTGGGCGTGGCC  ...  Perfect Match  -0.042202\n",
              "\n",
              "[5 rows x 5 columns]"
            ]
          },
          "metadata": {
            "tags": []
          },
          "execution_count": 2
        }
      ]
    },
    {
      "cell_type": "code",
      "metadata": {
        "id": "ITomeD-LqWd-",
        "colab_type": "code",
        "colab": {
          "base_uri": "https://localhost:8080/",
          "height": 323
        },
        "outputId": "fc8239c4-1bde-4b29-f987-607f50084e9b"
      },
      "source": [
        "guide= dataframe[\"gRNA\"]\n",
        "guide=guide[pd.notnull].to_numpy()\n",
        "target= dataframe[\"TargetSite\"]\n",
        "target=target[pd.notnull].to_numpy()\n",
        "\n",
        "y=dataframe[\"GuideScore\"]\n",
        "y=y[pd.notnull].astype(float)\n",
        "\n",
        "print(guide)\n",
        "print(target)\n",
        "print(y)"
      ],
      "execution_count": null,
      "outputs": [
        {
          "output_type": "stream",
          "text": [
            "['GGACAGGTGGGCGTGGCCCGAGC' 'AGGACAGGTGGGCGTGGCCCGAG'\n",
            " 'CAGGACAGGTGGGCGTGGCCCGA' ... 'AGATTCTCATGTGACTTGAGGTT'\n",
            " 'TAAGATTCTCATGTGACTTGAGG' 'ACTAAGATTCTCATGTGACTTGA']\n",
            "['CCTGTCCACCCGCACCGGGCTCG' 'TCCTGTCCACCCGCACCGGGCTC'\n",
            " 'GTCCTGTCCACCCGCACCGGGCT' ... 'TCTAAGAGTACACTGAACTCCAA'\n",
            " 'ATTCTAAGAGTACACTGAACTCC' 'TGATTCTAAGAGTACACTGAACT']\n",
            "0       0.041854\n",
            "1      -0.310824\n",
            "2      -0.119489\n",
            "3      -0.404897\n",
            "4      -0.042202\n",
            "          ...   \n",
            "1495   -0.230644\n",
            "1496   -0.514119\n",
            "1497   -1.193484\n",
            "1498   -0.570514\n",
            "1499   -0.490011\n",
            "Name: GuideScore, Length: 1500, dtype: float64\n"
          ],
          "name": "stdout"
        }
      ]
    },
    {
      "cell_type": "code",
      "metadata": {
        "id": "BX60EKhDUIXi",
        "colab_type": "code",
        "colab": {}
      },
      "source": [
        "def spl(word): \n",
        "    return [char for char in word]  \n",
        "def transform(basepairs):\n",
        "  for i in range(0,23):\n",
        "  \n",
        "    if basepairs[i] == \"A\":\n",
        "      basepairs.remove(basepairs[i])\n",
        "      basepairs.insert(i,[1,0,0,0])\n",
        "    if basepairs[i] == \"T\":\n",
        "      basepairs.remove(basepairs[i])\n",
        "      basepairs.insert(i,[0,1,0,0])\n",
        "    if basepairs[i] == \"G\":\n",
        "      basepairs.remove(basepairs[i])\n",
        "      basepairs.insert(i,[0,0,1,0])\n",
        "    if basepairs[i] == \"C\":\n",
        "      basepairs.remove(basepairs[i])\n",
        "      basepairs.insert(i,[0,0,0,1])\n",
        "  return basepairs\n",
        "  '''\n",
        "  if len(basepairs) < 24:\n",
        "    basepairs.append([p[x],p[x],p[x],p[x]])\n",
        "    basepairs.append([p[x],p[x],p[x],p[x]])\n",
        "    basepairs.append([p[x],p[x],p[x],p[x]])\n",
        "  else:\n",
        "    basepairs==basepairs\n",
        "  return basepairs\n",
        "  '''"
      ],
      "execution_count": null,
      "outputs": []
    },
    {
      "cell_type": "code",
      "metadata": {
        "id": "BYTZpft0geQo",
        "colab_type": "code",
        "colab": {
          "base_uri": "https://localhost:8080/",
          "height": 236
        },
        "outputId": "472f85e2-f328-4761-91c4-6e13c8a73151"
      },
      "source": [
        "guide0=[]\n",
        "target0=[]\n",
        "for i in range(len(guide)):\n",
        "  guide0.append(spl(guide[i]))\n",
        "  target0.append(spl(target[i]))\n",
        "print(guide0)\n",
        "print(target0)"
      ],
      "execution_count": null,
      "outputs": [
        {
          "output_type": "error",
          "ename": "NameError",
          "evalue": "ignored",
          "traceback": [
            "\u001b[0;31m---------------------------------------------------------------------------\u001b[0m",
            "\u001b[0;31mNameError\u001b[0m                                 Traceback (most recent call last)",
            "\u001b[0;32m<ipython-input-3-51dc92412732>\u001b[0m in \u001b[0;36m<module>\u001b[0;34m()\u001b[0m\n\u001b[1;32m      1\u001b[0m \u001b[0mguide0\u001b[0m\u001b[0;34m=\u001b[0m\u001b[0;34m[\u001b[0m\u001b[0;34m]\u001b[0m\u001b[0;34m\u001b[0m\u001b[0;34m\u001b[0m\u001b[0m\n\u001b[1;32m      2\u001b[0m \u001b[0mtarget0\u001b[0m\u001b[0;34m=\u001b[0m\u001b[0;34m[\u001b[0m\u001b[0;34m]\u001b[0m\u001b[0;34m\u001b[0m\u001b[0;34m\u001b[0m\u001b[0m\n\u001b[0;32m----> 3\u001b[0;31m \u001b[0;32mfor\u001b[0m \u001b[0mi\u001b[0m \u001b[0;32min\u001b[0m \u001b[0mrange\u001b[0m\u001b[0;34m(\u001b[0m\u001b[0mlen\u001b[0m\u001b[0;34m(\u001b[0m\u001b[0mguide\u001b[0m\u001b[0;34m)\u001b[0m\u001b[0;34m)\u001b[0m\u001b[0;34m:\u001b[0m\u001b[0;34m\u001b[0m\u001b[0;34m\u001b[0m\u001b[0m\n\u001b[0m\u001b[1;32m      4\u001b[0m   \u001b[0mguide0\u001b[0m\u001b[0;34m.\u001b[0m\u001b[0mappend\u001b[0m\u001b[0;34m(\u001b[0m\u001b[0mspl\u001b[0m\u001b[0;34m(\u001b[0m\u001b[0mguide\u001b[0m\u001b[0;34m[\u001b[0m\u001b[0mi\u001b[0m\u001b[0;34m]\u001b[0m\u001b[0;34m)\u001b[0m\u001b[0;34m)\u001b[0m\u001b[0;34m\u001b[0m\u001b[0;34m\u001b[0m\u001b[0m\n\u001b[1;32m      5\u001b[0m   \u001b[0mtarget0\u001b[0m\u001b[0;34m.\u001b[0m\u001b[0mappend\u001b[0m\u001b[0;34m(\u001b[0m\u001b[0mspl\u001b[0m\u001b[0;34m(\u001b[0m\u001b[0mtarget\u001b[0m\u001b[0;34m[\u001b[0m\u001b[0mi\u001b[0m\u001b[0;34m]\u001b[0m\u001b[0;34m)\u001b[0m\u001b[0;34m)\u001b[0m\u001b[0;34m\u001b[0m\u001b[0;34m\u001b[0m\u001b[0m\n",
            "\u001b[0;31mNameError\u001b[0m: name 'guide' is not defined"
          ]
        }
      ]
    },
    {
      "cell_type": "code",
      "metadata": {
        "id": "xg9phSh1hkq7",
        "colab_type": "code",
        "colab": {
          "base_uri": "https://localhost:8080/",
          "height": 408
        },
        "outputId": "68d2749c-2b20-40dd-bc84-867010c7db20"
      },
      "source": [
        "transform(guide0[0])"
      ],
      "execution_count": null,
      "outputs": [
        {
          "output_type": "execute_result",
          "data": {
            "text/plain": [
              "[[0, 0, 1, 0],\n",
              " [0, 0, 1, 0],\n",
              " [1, 0, 0, 0],\n",
              " [0, 0, 0, 1],\n",
              " [1, 0, 0, 0],\n",
              " [0, 0, 1, 0],\n",
              " [0, 0, 1, 0],\n",
              " [0, 1, 0, 0],\n",
              " [0, 0, 1, 0],\n",
              " [0, 0, 1, 0],\n",
              " [0, 0, 1, 0],\n",
              " [0, 0, 0, 1],\n",
              " [0, 0, 1, 0],\n",
              " [0, 1, 0, 0],\n",
              " [0, 0, 1, 0],\n",
              " [0, 0, 1, 0],\n",
              " [0, 0, 0, 1],\n",
              " [0, 0, 0, 1],\n",
              " [0, 0, 0, 1],\n",
              " [0, 0, 1, 0],\n",
              " [1, 0, 0, 0],\n",
              " [0, 0, 1, 0],\n",
              " [0, 0, 0, 1]]"
            ]
          },
          "metadata": {
            "tags": []
          },
          "execution_count": 13
        }
      ]
    },
    {
      "cell_type": "code",
      "metadata": {
        "id": "hpaNzDTgXgGi",
        "colab_type": "code",
        "colab": {
          "base_uri": "https://localhost:8080/",
          "height": 426
        },
        "outputId": "bc331e87-2b4c-40ba-f10a-4b23c59e859e"
      },
      "source": [
        "x_encoded=[]\n",
        "for i in range(len(guide)):\n",
        "  TargetSite=transform(target0[i])\n",
        "  TargetSite=np.expand_dims(np.array(TargetSite),axis=1)\n",
        "  GuideSequence=transform(guide0[i])\n",
        "  GuideSequence=np.array(np.expand_dims(GuideSequence,axis=1))\n",
        "  final_match=np.concatenate((GuideSequence, TargetSite),axis=1)\n",
        "  final_match=final_match.reshape(23,8)\n",
        "  x_encoded.append(final_match)\n",
        "print(x_encoded[1])\n",
        "\n",
        "\n",
        "'''\n",
        "x_final=np.array(x_encoded)\n",
        "\n",
        "\n",
        "\n",
        "print(x_final[0]))\n",
        "'''\n",
        "\n"
      ],
      "execution_count": null,
      "outputs": [
        {
          "output_type": "stream",
          "text": [
            "[[1 0 0 0 0 1 0 0]\n",
            " [0 0 1 0 0 0 0 1]\n",
            " [0 0 1 0 0 0 0 1]\n",
            " [1 0 0 0 0 1 0 0]\n",
            " [0 0 0 1 0 0 1 0]\n",
            " [1 0 0 0 0 1 0 0]\n",
            " [0 0 1 0 0 0 0 1]\n",
            " [0 0 1 0 0 0 0 1]\n",
            " [0 1 0 0 1 0 0 0]\n",
            " [0 0 1 0 0 0 0 1]\n",
            " [0 0 1 0 0 0 0 1]\n",
            " [0 0 1 0 0 0 0 1]\n",
            " [0 0 0 1 0 0 1 0]\n",
            " [0 0 1 0 0 0 0 1]\n",
            " [0 1 0 0 1 0 0 0]\n",
            " [0 0 1 0 0 0 0 1]\n",
            " [0 0 1 0 0 0 0 1]\n",
            " [0 0 0 1 0 0 1 0]\n",
            " [0 0 0 1 0 0 1 0]\n",
            " [0 0 0 1 0 0 1 0]\n",
            " [0 0 1 0 0 0 0 1]\n",
            " [1 0 0 0 0 1 0 0]\n",
            " [0 0 1 0 0 0 0 1]]\n"
          ],
          "name": "stdout"
        },
        {
          "output_type": "execute_result",
          "data": {
            "application/vnd.google.colaboratory.intrinsic+json": {
              "type": "string"
            },
            "text/plain": [
              "'\\nx_final=np.array(x_encoded)\\n\\n\\n\\nprint(x_final[0]))\\n'"
            ]
          },
          "metadata": {
            "tags": []
          },
          "execution_count": 40
        }
      ]
    },
    {
      "cell_type": "code",
      "metadata": {
        "id": "ZsFOMgXLgO_p",
        "colab_type": "code",
        "colab": {}
      },
      "source": [
        "TargetSite=transform(TargetSite)\n",
        "  TargetSite=np.expand_dims(np.array(TargetSite),axis=1)\n",
        "  GuideSequence=transform(GuideSequence)\n",
        "  GuideSequence=np.array(np.expand_dims(GuideSequence,axis=1))\n",
        "  final_match=np.concatenate((GuideSequence, TargetSite),axis=1)\n"
      ],
      "execution_count": null,
      "outputs": []
    },
    {
      "cell_type": "code",
      "metadata": {
        "id": "Tq0oCnj2g1A2",
        "colab_type": "code",
        "colab": {
          "base_uri": "https://localhost:8080/",
          "height": 282
        },
        "outputId": "4e708774-a64d-4cc3-c413-b86c55400869"
      },
      "source": [
        "\n",
        "plt.imshow(x_encoded[1], interpolation='nearest')"
      ],
      "execution_count": null,
      "outputs": [
        {
          "output_type": "execute_result",
          "data": {
            "text/plain": [
              "<matplotlib.image.AxesImage at 0x7f2f1e1f2d30>"
            ]
          },
          "metadata": {
            "tags": []
          },
          "execution_count": 42
        },
        {
          "output_type": "display_data",
          "data": {
            "image/png": "[encoded data removed]",
            "text/plain": [
              "<Figure size 432x288 with 1 Axes>"
            ]
          },
          "metadata": {
            "tags": [],
            "needs_background": "light"
          }
        }
      ]
    },
    {
      "cell_type": "code",
      "metadata": {
        "id": "w-TMAwZnLocw",
        "colab_type": "code",
        "colab": {
          "base_uri": "https://localhost:8080/",
          "height": 34
        },
        "outputId": "83978a1d-27dc-46bd-87ce-7b8ac9e39260"
      },
      "source": [
        "x_encoded=np.expand_dims(x_encoded,axis=3)\n",
        "x_encoded.shape"
      ],
      "execution_count": null,
      "outputs": [
        {
          "output_type": "execute_result",
          "data": {
            "text/plain": [
              "(1500, 23, 8, 1)"
            ]
          },
          "metadata": {
            "tags": []
          },
          "execution_count": 45
        }
      ]
    },
    {
      "cell_type": "code",
      "metadata": {
        "id": "Bu6NU43yOu1n",
        "colab_type": "code",
        "colab": {
          "base_uri": "https://localhost:8080/",
          "height": 34
        },
        "outputId": "2aac74d2-2036-42a6-dda0-c0a9f96c2913"
      },
      "source": [
        "from sklearn.model_selection import train_test_split\n",
        "x_train, x_test, y_train, y_test= train_test_split(x_encoded,y,test_size=0.25,random_state = 0)\n",
        "\n",
        "y_test=y_test.to_numpy()\n",
        "print(type(y_test))\n"
      ],
      "execution_count": null,
      "outputs": [
        {
          "output_type": "stream",
          "text": [
            "<class 'numpy.ndarray'>\n"
          ],
          "name": "stdout"
        }
      ]
    },
    {
      "cell_type": "code",
      "metadata": {
        "id": "clCz6lxydS8b",
        "colab_type": "code",
        "colab": {}
      },
      "source": [
        "import tensorflow as tf\n",
        "opt=tf.keras.optimizers.RMSprop(0.001)\n",
        "from tensorflow.keras.models import Sequential\n",
        "from tensorflow.keras.layers import Conv2D, MaxPooling2D, Activation, Dropout, Flatten, Dense\n",
        "from tensorflow.keras.layers import PReLU\n",
        "from tensorflow.keras.layers import LeakyReLU\n",
        "from keras.initializers import Constant\n",
        "import sklearn.metrics as metrics\n",
        "dr=0.5\n",
        "alp = 0.1\n",
        "fil=8\n",
        "model = Sequential()\n",
        "image_shape = (23, 8,1)\n",
        "model.add(Conv2D(filters=fil, kernel_size=(3,3),input_shape=image_shape, activation=\"relu\"))\n",
        "model.add(MaxPooling2D(pool_size=(3,1)))\n",
        "model.add(Conv2D(filters=fil, kernel_size=(3,3),input_shape=image_shape, activation=\"relu\"))\n",
        "model.add(MaxPooling2D(pool_size=(1,2)))\n",
        "#model.add(Conv2D(filters=32, kernel_size=(3,3),input_shape=image_shape, activation=\"relu\"))\n",
        "\n",
        "\n",
        "\n",
        "\n",
        "\n",
        "\n",
        "\n",
        "model.add(Flatten())\n",
        "\n",
        "\n",
        "model.add(Dense(64))\n",
        "model.add(Activation('relu'))\n",
        "#model.add(LeakyReLU(alpha=alp))\n",
        "model.add(Dropout(dr))\n",
        "\n",
        "model.add(Dense(64))\n",
        "model.add(Activation('relu'))\n",
        "#model.add(LeakyReLU(alpha=alp))\n",
        "model.add(Dropout(dr))\n",
        "\n",
        "\n",
        "\n",
        "model.add(Dense(1))\n",
        "\n",
        "model.compile(loss='mse',\n",
        "              optimizer=opt,\n",
        "              metrics='mse')"
      ],
      "execution_count": null,
      "outputs": []
    },
    {
      "cell_type": "code",
      "metadata": {
        "id": "-NVCu1gDyice",
        "colab_type": "code",
        "colab": {}
      },
      "source": [
        "model.summary()\n"
      ],
      "execution_count": null,
      "outputs": []
    },
    {
      "cell_type": "code",
      "metadata": {
        "id": "tRO62AWhbTji",
        "colab_type": "code",
        "colab": {}
      },
      "source": [
        "from tensorflow.keras.callbacks import EarlyStopping\n",
        "early_stop = EarlyStopping(monitor='val_loss', patience = 3)"
      ],
      "execution_count": null,
      "outputs": []
    },
    {
      "cell_type": "code",
      "metadata": {
        "id": "rNCddaZd5JG5",
        "colab_type": "code",
        "colab": {
          "base_uri": "https://localhost:8080/",
          "height": 433
        },
        "outputId": "137e0e77-dc13-4b91-f54a-cd8306771a6f"
      },
      "source": [
        "result = model.fit(x_train, \n",
        "                   y_train, \n",
        "                   epochs=60, \n",
        "                   batch_size = 256,\n",
        "                   validation_split=0.2,\n",
        "                   callbacks =[early_stop])\n",
        "\n",
        "\n"
      ],
      "execution_count": null,
      "outputs": [
        {
          "output_type": "stream",
          "text": [
            "Epoch 1/60\n",
            "4/4 [==============================] - 0s 53ms/step - loss: 0.8881 - mse: 0.8881 - val_loss: 0.8031 - val_mse: 0.8031\n",
            "Epoch 2/60\n",
            "4/4 [==============================] - 0s 26ms/step - loss: 0.8034 - mse: 0.8034 - val_loss: 0.8054 - val_mse: 0.8054\n",
            "Epoch 3/60\n",
            "4/4 [==============================] - 0s 25ms/step - loss: 0.7623 - mse: 0.7623 - val_loss: 0.8157 - val_mse: 0.8157\n",
            "Epoch 4/60\n",
            "4/4 [==============================] - 0s 27ms/step - loss: 0.7626 - mse: 0.7626 - val_loss: 0.8020 - val_mse: 0.8020\n",
            "Epoch 5/60\n",
            "4/4 [==============================] - 0s 27ms/step - loss: 0.7527 - mse: 0.7527 - val_loss: 0.8250 - val_mse: 0.8250\n",
            "Epoch 6/60\n",
            "4/4 [==============================] - 0s 25ms/step - loss: 0.7358 - mse: 0.7358 - val_loss: 0.7955 - val_mse: 0.7955\n",
            "Epoch 7/60\n",
            "4/4 [==============================] - 0s 27ms/step - loss: 0.7524 - mse: 0.7524 - val_loss: 0.7978 - val_mse: 0.7978\n",
            "Epoch 8/60\n",
            "4/4 [==============================] - 0s 24ms/step - loss: 0.7412 - mse: 0.7412 - val_loss: 0.8017 - val_mse: 0.8017\n",
            "Epoch 9/60\n",
            "4/4 [==============================] - 0s 22ms/step - loss: 0.7446 - mse: 0.7446 - val_loss: 0.7869 - val_mse: 0.7869\n",
            "Epoch 10/60\n",
            "4/4 [==============================] - 0s 23ms/step - loss: 0.7470 - mse: 0.7470 - val_loss: 0.7952 - val_mse: 0.7952\n",
            "Epoch 11/60\n",
            "4/4 [==============================] - 0s 22ms/step - loss: 0.7486 - mse: 0.7486 - val_loss: 0.8041 - val_mse: 0.8041\n",
            "Epoch 12/60\n",
            "4/4 [==============================] - 0s 21ms/step - loss: 0.7277 - mse: 0.7277 - val_loss: 0.8029 - val_mse: 0.8029\n"
          ],
          "name": "stdout"
        }
      ]
    },
    {
      "cell_type": "code",
      "metadata": {
        "id": "7fwcEtFDzKT1",
        "colab_type": "code",
        "colab": {
          "base_uri": "https://localhost:8080/",
          "height": 282
        },
        "outputId": "b639488e-6fd7-42a8-b8d4-f51a88d1f35a"
      },
      "source": [
        "losses = pd.DataFrame(model.history.history)\n",
        "losses[['loss','val_loss']].plot()"
      ],
      "execution_count": null,
      "outputs": [
        {
          "output_type": "execute_result",
          "data": {
            "text/plain": [
              "<matplotlib.axes._subplots.AxesSubplot at 0x7f2f1100f4a8>"
            ]
          },
          "metadata": {
            "tags": []
          },
          "execution_count": 105
        },
        {
          "output_type": "display_data",
          "data": {
            "image/png": "[encoded data removed]",
            "text/plain": [
              "<Figure size 432x288 with 1 Axes>"
            ]
          },
          "metadata": {
            "tags": [],
            "needs_background": "light"
          }
        }
      ]
    },
    {
      "cell_type": "code",
      "metadata": {
        "id": "6PIg9N-DzjIG",
        "colab_type": "code",
        "colab": {}
      },
      "source": [
        "losses[['mse','val_mse']].plot()"
      ],
      "execution_count": null,
      "outputs": []
    },
    {
      "cell_type": "code",
      "metadata": {
        "id": "-8NjGi-UigMk",
        "colab_type": "code",
        "colab": {}
      },
      "source": [
        "model.predict(x_test[1:3])"
      ],
      "execution_count": null,
      "outputs": []
    },
    {
      "cell_type": "code",
      "metadata": {
        "id": "Hmo0Q2hGjUY_",
        "colab_type": "code",
        "colab": {
          "base_uri": "https://localhost:8080/",
          "height": 288
        },
        "outputId": "2868bd53-ee8e-470a-9d70-a25170c98af1"
      },
      "source": [
        "transform(spl(\"TCCAG\"))"
      ],
      "execution_count": null,
      "outputs": [
        {
          "output_type": "error",
          "ename": "IndexError",
          "evalue": "ignored",
          "traceback": [
            "\u001b[0;31m---------------------------------------------------------------------------\u001b[0m",
            "\u001b[0;31mIndexError\u001b[0m                                Traceback (most recent call last)",
            "\u001b[0;32m<ipython-input-4-109d1157df65>\u001b[0m in \u001b[0;36m<module>\u001b[0;34m()\u001b[0m\n\u001b[0;32m----> 1\u001b[0;31m \u001b[0mtransform\u001b[0m\u001b[0;34m(\u001b[0m\u001b[0mspl\u001b[0m\u001b[0;34m(\u001b[0m\u001b[0;34m\"TCCAG\"\u001b[0m\u001b[0;34m)\u001b[0m\u001b[0;34m)\u001b[0m\u001b[0;34m\u001b[0m\u001b[0;34m\u001b[0m\u001b[0m\n\u001b[0m",
            "\u001b[0;32m<ipython-input-2-d9f0d8801d4a>\u001b[0m in \u001b[0;36mtransform\u001b[0;34m(basepairs)\u001b[0m\n\u001b[1;32m      4\u001b[0m   \u001b[0;32mfor\u001b[0m \u001b[0mi\u001b[0m \u001b[0;32min\u001b[0m \u001b[0mrange\u001b[0m\u001b[0;34m(\u001b[0m\u001b[0;36m0\u001b[0m\u001b[0;34m,\u001b[0m\u001b[0;36m23\u001b[0m\u001b[0;34m)\u001b[0m\u001b[0;34m:\u001b[0m\u001b[0;34m\u001b[0m\u001b[0;34m\u001b[0m\u001b[0m\n\u001b[1;32m      5\u001b[0m \u001b[0;34m\u001b[0m\u001b[0m\n\u001b[0;32m----> 6\u001b[0;31m     \u001b[0;32mif\u001b[0m \u001b[0mbasepairs\u001b[0m\u001b[0;34m[\u001b[0m\u001b[0mi\u001b[0m\u001b[0;34m]\u001b[0m \u001b[0;34m==\u001b[0m \u001b[0;34m\"A\"\u001b[0m\u001b[0;34m:\u001b[0m\u001b[0;34m\u001b[0m\u001b[0;34m\u001b[0m\u001b[0m\n\u001b[0m\u001b[1;32m      7\u001b[0m       \u001b[0mbasepairs\u001b[0m\u001b[0;34m.\u001b[0m\u001b[0mremove\u001b[0m\u001b[0;34m(\u001b[0m\u001b[0mbasepairs\u001b[0m\u001b[0;34m[\u001b[0m\u001b[0mi\u001b[0m\u001b[0;34m]\u001b[0m\u001b[0;34m)\u001b[0m\u001b[0;34m\u001b[0m\u001b[0;34m\u001b[0m\u001b[0m\n\u001b[1;32m      8\u001b[0m       \u001b[0mbasepairs\u001b[0m\u001b[0;34m.\u001b[0m\u001b[0minsert\u001b[0m\u001b[0;34m(\u001b[0m\u001b[0mi\u001b[0m\u001b[0;34m,\u001b[0m\u001b[0;34m[\u001b[0m\u001b[0;36m1\u001b[0m\u001b[0;34m,\u001b[0m\u001b[0;36m0\u001b[0m\u001b[0;34m,\u001b[0m\u001b[0;36m0\u001b[0m\u001b[0;34m,\u001b[0m\u001b[0;36m0\u001b[0m\u001b[0;34m]\u001b[0m\u001b[0;34m)\u001b[0m\u001b[0;34m\u001b[0m\u001b[0;34m\u001b[0m\u001b[0m\n",
            "\u001b[0;31mIndexError\u001b[0m: list index out of range"
          ]
        }
      ]
    },
    {
      "cell_type": "code",
      "metadata": {
        "id": "r27KRkqglbdl",
        "colab_type": "code",
        "colab": {
          "base_uri": "https://localhost:8080/",
          "height": 282
        },
        "outputId": "5d150900-6d3e-4d04-fac9-9108fb7e1e34"
      },
      "source": [
        "  def transforms(basepairs):\n",
        "    for i in range(0,5):\n",
        "  \n",
        "      if basepairs[i] == \"A\":\n",
        "        basepairs.remove(basepairs[i])\n",
        "        basepairs.insert(i,[1,0,0,0])\n",
        "      if basepairs[i] == \"T\":\n",
        "        basepairs.remove(basepairs[i])\n",
        "        basepairs.insert(i,[0,1,0,0])\n",
        "      if basepairs[i] == \"G\":\n",
        "        basepairs.remove(basepairs[i])\n",
        "        basepairs.insert(i,[0,0,1,0])\n",
        "      if basepairs[i] == \"C\":\n",
        "        basepairs.remove(basepairs[i])\n",
        "        basepairs.insert(i,[0,0,0,1])\n",
        "    return basepairs\n",
        "  sample=transforms(spl(\"AGGTC\"))\n",
        "  plt.imshow(sample, interpolation='nearest')\n"
      ],
      "execution_count": null,
      "outputs": [
        {
          "output_type": "execute_result",
          "data": {
            "text/plain": [
              "<matplotlib.image.AxesImage at 0x7f0081e776d8>"
            ]
          },
          "metadata": {
            "tags": []
          },
          "execution_count": 6
        },
        {
          "output_type": "display_data",
          "data": {
            "image/png": "[encoded data removed]",
            "text/plain": [
              "<Figure size 432x288 with 1 Axes>"
            ]
          },
          "metadata": {
            "tags": [],
            "needs_background": "light"
          }
        }
      ]
    },
    {
      "cell_type": "code",
      "metadata": {
        "id": "VnZ7qbG_6i70",
        "colab_type": "code",
        "colab": {}
      },
      "source": [
        "def plot_filters (layer, x,y):\n",
        "  filters = model.layers[layer].get_weights()[0][:,:,0,:]\n",
        "  fig=plt.figure()\n",
        "  for i in range(len(filters)):\n",
        "    ax=fig.add_subplot(y,x,i+1)\n",
        "    ax.matshow(filter[j][0], cmap= matplotlib.cm.binary)\n",
        "    plt.xticks(np.array([]))\n",
        "    plt.yticks(np.array([]))\n",
        "  plt.tight_layout\n",
        "  return plt\n",
        "\n",
        "plot_filters(model.layers[0],2,1)"
      ],
      "execution_count": null,
      "outputs": []
    },
    {
      "cell_type": "code",
      "metadata": {
        "id": "e-0QdYFGCnTF",
        "colab_type": "code",
        "colab": {}
      },
      "source": [
        "filters, biases = model.layers[2].get_weights()\n",
        "filters[0][0][0]"
      ],
      "execution_count": null,
      "outputs": []
    },
    {
      "cell_type": "code",
      "metadata": {
        "id": "B0h2A6SdDYgi",
        "colab_type": "code",
        "colab": {}
      },
      "source": [
        "model.layers[0]"
      ],
      "execution_count": null,
      "outputs": []
    },
    {
      "cell_type": "code",
      "metadata": {
        "id": "aZvD96c27Sd_",
        "colab_type": "code",
        "colab": {}
      },
      "source": [
        "\n",
        "for layer in model.layers:\n",
        "\t# check for convolutional layer\n",
        "\tif 'conv' not in layer.name:\n",
        "\t\tcontinue\n",
        "\t# get filter weights\n",
        "\tfilters, biases = layer.get_weights()\n",
        "\tprint(layer.name, filters.shape)\n"
      ],
      "execution_count": null,
      "outputs": []
    },
    {
      "cell_type": "code",
      "metadata": {
        "id": "RLM1GP_s5Uhm",
        "colab_type": "code",
        "colab": {}
      },
      "source": [
        "pred1=model.predict(x_test)\n",
        "pred1.shape"
      ],
      "execution_count": null,
      "outputs": []
    },
    {
      "cell_type": "code",
      "metadata": {
        "id": "WZOjJgluCTDs",
        "colab_type": "code",
        "colab": {}
      },
      "source": [
        "print(type(y_test))\n"
      ],
      "execution_count": null,
      "outputs": []
    },
    {
      "cell_type": "code",
      "metadata": {
        "id": "d5_0wXsehg0D",
        "colab_type": "code",
        "colab": {}
      },
      "source": [
        "plt.figure(figsize=(100,30))\n",
        "plt.scatter(range(0,217),pred1, color=\"red\")\n",
        "plt.plot(range(0,217),y_test, color=\"blue\")\n",
        "\n"
      ],
      "execution_count": null,
      "outputs": []
    },
    {
      "cell_type": "code",
      "metadata": {
        "id": "dtIuzn3lLM75",
        "colab_type": "code",
        "colab": {}
      },
      "source": [
        "d=0\n",
        "sum_mean_sq=0\n",
        "for i in range(0,len(pred1)):\n",
        "  dif=pred1[i]-y_test[i]\n",
        "  d=d+dif**2\n",
        "  \n",
        "\n",
        "mse_pred1=d/len(pred1)\n",
        "print(\"mse of pred1: {}\".format(mse_pred1))\n",
        "\n",
        "for i in range (0,len(y_test)):\n",
        "  mean=y_test[i]/len(y_test)\n",
        "  sum_mean_sq=sum_mean_sq+(y_test[i]-mean)**2\n",
        "  r_squared=1-(d/sum_mean_sq)\n",
        "print(\"R squared of pred1: {}\".format(r_squared))\n"
      ],
      "execution_count": null,
      "outputs": []
    }
  ]
}